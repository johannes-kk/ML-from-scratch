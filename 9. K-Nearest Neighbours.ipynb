{
 "cells": [
  {
   "cell_type": "markdown",
   "metadata": {},
   "source": [
    "# 9. K-Nearest Neighbours"
   ]
  },
  {
   "cell_type": "code",
   "execution_count": 1,
   "metadata": {},
   "outputs": [],
   "source": [
    "from random import seed\n",
    "from math import sqrt\n",
    "\n",
    "from functions import *"
   ]
  },
  {
   "cell_type": "markdown",
   "metadata": {},
   "source": [
    "### Define functions\n",
    "* K-Nearest Neighbours for classification or regression"
   ]
  },
  {
   "cell_type": "code",
   "execution_count": 2,
   "metadata": {},
   "outputs": [],
   "source": [
    "# Calculate the Euclidian distance between two vectors\n",
    "# Input: two rows of data, where the last vector element is assumed to be the output\n",
    "# Output: Euclidian distance, i.e. squared differences element-wise (per input variable)\n",
    "# Dependencies: NA\n",
    "def euclidian_distance(row1, row2):\n",
    "    distance = 0.0\n",
    "    # Assuming last row value is output (class or regression value)\n",
    "    for i in range(len(row1)-1):\n",
    "        distance += (row1[i] - row2[i])**2\n",
    "    return sqrt(distance)\n",
    "\n",
    "# Find the K nearest neighbours to a given row from a given (training) dataset\n",
    "# Input: training dataset, row for which to find neighbours, number of neighbours to find\n",
    "# Output: list of num_neighbours observations from train that are most similar to test_row\n",
    "# Dependencies: euclidian_distance\n",
    "def get_neighbours(train, test_row, num_neighbours):\n",
    "    # List of tuples, each tuple corresponds to an observation\n",
    "    # Each tuple element thus contains the full row (vector) and its distance to test_row\n",
    "    distances = list()\n",
    "    for train_row in train:\n",
    "        dist = euclidian_distance(test_row, train_row)\n",
    "        # Add tuple of observation vector and distance to test_row to list of tuples\n",
    "        distances.append((train_row, dist))\n",
    "    # Sort the list of neighbours by distance, by default in ascending order\n",
    "    distances.sort(key=lambda tup: tup[1])\n",
    "    # Add the K closest rows to a list of complete data observations\n",
    "    neighbours = list()\n",
    "    for i in range(num_neighbours):\n",
    "        neighbours.append(distances[i][0])\n",
    "    return neighbours\n",
    "\n",
    "# Get the predicted class for a given row (vector), based on k neighbours from train set\n",
    "# Input: test_row for which to predict class, based on num_neighbours from train set\n",
    "# Output: class prediction for given row\n",
    "# Dependencies: get_neighbours, euclidian_distance\n",
    "def predict_classification(train, test_row, num_neighbours):\n",
    "    # Get num_neighbours nearest neighbours to test_row\n",
    "    neighbours = get_neighbours(train, test_row, num_neighbours)\n",
    "    # Add output classes of K nearest neighbours to a list\n",
    "    output_values = [row[-1] for row in neighbours]\n",
    "    # Find distinct classes (using set), and find class with maximum count (occurrences)\n",
    "    prediction = max(set(output_values), key = output_values.count)\n",
    "    return prediction\n",
    "\n",
    "# Get the predicted regression value for a given row, based on k neighbours from train set\n",
    "# Input: row for which to predict regression value, based on num_neighbours from train set\n",
    "# Output: predicted regression value; the average value of that of its K neighbours\n",
    "# Dependencies: get_neighbours, euclidian_distance\n",
    "def predict_regression(train, test_row, num_neighbours):\n",
    "    neighbours = get_neighbours(train, test_row, num_neighbours)\n",
    "    output_values = [row[-1] for row in neighbours]\n",
    "    prediction = sum(output_values) / float(len(output_values))\n",
    "    return prediction\n",
    "\n",
    "# For a test set, get predictions using \"training\" data and problem type\n",
    "# Input: train (neighbours), test, number of neighbours (K), classification or regression\n",
    "# Output: predicted class or regression value for provided test observations\n",
    "def k_nearest_neighbours(train, test, num_neighbours, type = \"classification\"):\n",
    "    # List of predictions, equal length as rows in test set\n",
    "    predictions = list()\n",
    "    # There is strictly speaking no algorithm training step in KNN;\n",
    "        # the K neighbours are found from among the training set\n",
    "    # Get prediction based on K neighbours (from train) for each row in test set\n",
    "    if(type == \"regression\"):\n",
    "        for row in test:\n",
    "            output = predict_regression(train, row, num_neighbours)\n",
    "            predictions.append(output)\n",
    "    elif(type == \"classification\"):\n",
    "        for row in test:\n",
    "            output = predict_classification(train, row, num_neighbours)\n",
    "            predictions.append(output)\n",
    "    else:\n",
    "        print(\"Error: Invalid problem type.\")\n",
    "        return None\n",
    "\n",
    "    return predictions"
   ]
  },
  {
   "cell_type": "markdown",
   "metadata": {},
   "source": [
    "### Testing KNN on contrived dataset"
   ]
  },
  {
   "cell_type": "code",
   "execution_count": 3,
   "metadata": {
    "scrolled": false
   },
   "outputs": [
    {
     "name": "stdout",
     "output_type": "stream",
     "text": [
      " Contrived dataset distances to first row:\n",
      "0.0\n",
      "1.3290173915275787\n",
      "1.9494646655653247\n",
      "1.5591439385540549\n",
      "0.5356280721938492\n",
      "4.850940186986411\n",
      "2.592833759950511\n",
      "4.214227042632867\n",
      "6.522409988228337\n",
      "4.985585382449795\n",
      "\n",
      " 3  closest neighbours:\n",
      "[2.7810836, 2.550537003, 0]\n",
      "[3.06407232, 3.005305973, 0]\n",
      "[1.465489372, 2.362125076, 0]\n",
      "\n",
      "First row: expected class 0, got class 0.\n"
     ]
    }
   ],
   "source": [
    "# Contrived dataset for testing\n",
    "dataset =   [[2.7810836,2.550537003,0],\n",
    "            [1.465489372,2.362125076,0],\n",
    "            [3.396561688,4.400293529,0],\n",
    "            [1.38807019,1.850220317,0],\n",
    "            [3.06407232,3.005305973,0],\n",
    "            [7.627531214,2.759262235,1],\n",
    "            [5.332441248,2.088626775,1],\n",
    "            [6.922596716,1.77106367,1],\n",
    "            [8.675418651,-0.242068655,1],\n",
    "            [7.673756466,3.508563011,1]]\n",
    "\n",
    "# Calculate Euclidian distance between first row compared to all others (including itself)\n",
    "print(\" Contrived dataset distances to first row:\")\n",
    "row0 = dataset[0]\n",
    "for row in dataset:\n",
    "    distance = euclidian_distance(row0, row)\n",
    "    print(distance)\n",
    "\n",
    "# Find nearest neighbours to first row in contrived dataset\n",
    "    # Note: the closest neighbour will always be itself (the same row)\n",
    "k = 3\n",
    "print(\"\\n\", k, \" closest neighbours:\")\n",
    "neighbours = get_neighbours(dataset, dataset[0], k)\n",
    "for neighbour in neighbours:\n",
    "    print(neighbour)\n",
    "\n",
    "# Get predicted class for first row\n",
    "prediction = predict_classification(dataset, dataset[0], k)\n",
    "print(\"\\nFirst row: expected class %d, got class %d.\" % (dataset[0][-1], prediction))"
   ]
  },
  {
   "cell_type": "markdown",
   "metadata": {},
   "source": [
    "### Testing KNN on Abalone case study"
   ]
  },
  {
   "cell_type": "code",
   "execution_count": 4,
   "metadata": {},
   "outputs": [
    {
     "name": "stdout",
     "output_type": "stream",
     "text": [
      "Loaded data file data/abalone.csv with 4177 rows and 9 columns.\n",
      "\n",
      "Abalone Case Study as Classification\n",
      "Scores: [24.790419161676645, 21.79640718562874, 23.592814371257482, 21.676646706586826, 23.353293413173652]\n",
      "Mean Accuracy: 23.042%\n",
      "\n",
      "Abalone Case Study as Regression\n",
      "Scores: [2.2449837629275575, 2.2882883282169404, 2.3248720266113048, 2.148766531010387, 2.22366154319461]\n",
      "Mean RMSE: 2.246\n"
     ]
    }
   ],
   "source": [
    "# Abalone Case Study\n",
    "seed(1)\n",
    "# Load data\n",
    "dataset = load_csv('data/abalone.csv')\n",
    "# Convert string numbers to floats\n",
    "for i in range(1, len(dataset[0])):\n",
    "    str_column_to_float(dataset, i)\n",
    "# Convert float gender (first column) to int\n",
    "str_column_to_int(dataset, 0)\n",
    "\n",
    "# Evaluate algorithm using k-fold cross-validation with 5 folds\n",
    "    # 4177 / 5 = 835.4, i.e. 835 records per fold\n",
    "\n",
    "print(\"\\nAbalone Case Study as Classification\")\n",
    "n_folds = 5\n",
    "num_neighbours = 5\n",
    "# Run KNN algorithm and check classification accuracy with 5-fold cross-validation\n",
    "scores = evaluate_algorithm(dataset, k_nearest_neighbours, n_folds, accuracy_metric, num_neighbours)\n",
    "print(\"Scores: %s\" % scores)\n",
    "print(\"Mean Accuracy: %.3f%%\" % (sum(scores)/float(len(scores))))\n",
    "# 23% beats the 16% baseline with K = 5 neighbours\n",
    "# The large number of classes makes accuracy a poor judge of skill on this problem\n",
    "# Many classes also only have a few examples, which gives many misclassifications\n",
    "\n",
    "print(\"\\nAbalone Case Study as Regression\")\n",
    "n_folds = 5\n",
    "# Running regression algorithm instead, treating the classes (since so many) as values\n",
    "scores = evaluate_algorithm(dataset, k_nearest_neighbours, n_folds, rmse_metric, num_neighbours, \"regression\")\n",
    "print(\"Scores: %s\" % scores)\n",
    "print(\"Mean RMSE: %.3f\" % (sum(scores)/float(len(scores))))\n",
    "# RMSE of 2.24 rings beats the 3.222 rings baseline\n",
    "# Also have a model more useful in the domain with a performance easier to understand"
   ]
  },
  {
   "cell_type": "code",
   "execution_count": null,
   "metadata": {},
   "outputs": [],
   "source": []
  }
 ],
 "metadata": {
  "kernelspec": {
   "display_name": "Python 3",
   "language": "python",
   "name": "python3"
  },
  "language_info": {
   "codemirror_mode": {
    "name": "ipython",
    "version": 3
   },
   "file_extension": ".py",
   "mimetype": "text/x-python",
   "name": "python",
   "nbconvert_exporter": "python",
   "pygments_lexer": "ipython3",
   "version": "3.7.1"
  }
 },
 "nbformat": 4,
 "nbformat_minor": 2
}
