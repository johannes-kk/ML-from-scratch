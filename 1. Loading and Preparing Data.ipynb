{
 "cells": [
  {
   "cell_type": "markdown",
   "metadata": {},
   "source": [
    "# 1. Loading and preparing data"
   ]
  },
  {
   "cell_type": "code",
   "execution_count": 5,
   "metadata": {},
   "outputs": [],
   "source": [
    "from csv import reader\n",
    "from math import sqrt"
   ]
  },
  {
   "cell_type": "markdown",
   "metadata": {},
   "source": [
    "### Define functions\n",
    "* Loading CSV files\n",
    "* Converting strings to floats or ints\n",
    "* Finding min/max, means and stdevs of dataset columns\n",
    "* Normalizing and Standardizing a dataset"
   ]
  },
  {
   "cell_type": "code",
   "execution_count": 6,
   "metadata": {},
   "outputs": [],
   "source": [
    "# Load a CSV file, skipping empty rows\n",
    "# returns list of lists, but all values are strings\n",
    "def load_csv(filename):\n",
    "    dataset = list()\n",
    "    with open(filename, 'r') as file:   \n",
    "        # locally scoped file\n",
    "        csv_reader = reader(file)\n",
    "        for row in csv_reader:  \n",
    "            # looping over each row\n",
    "            if not row: \n",
    "                # i.e. if empty\n",
    "                continue    \n",
    "                # go to next iteration, i.e. skip ahead to next row\n",
    "            dataset.append(row)\n",
    "    print('Loaded data file {0} with {1} rows and {2} columns.'.format(filename, len(dataset), len(dataset[0]))) \n",
    "    # Prints that load was successful\n",
    "    return dataset\n",
    "\n",
    "# Convert column to floating point values\n",
    "def str_column_to_float(dataset, column):\n",
    "    for row in dataset: \n",
    "        # in each row\n",
    "        row[column] = float(row[column].strip())    \n",
    "        # casts as float and strips out whitespace\n",
    "        \n",
    "# Some algorithms prefer all values to be numeric, including the outcome or predicted value:\n",
    "# Use set() to get the unique strings, and enumerate() to give each an index int\n",
    "# Store in dictionary, and replace strings in dataset with integers\n",
    "def str_column_to_int(dataset, column):\n",
    "    class_values = [row[column] for row in dataset] \n",
    "    # Populates the list class_values with the column-value at each row in dataset\n",
    "    unique = set(class_values)  \n",
    "    # gets the (class=) set of unique values in class_values\n",
    "    lookup = dict() \n",
    "    # create dictionary to map each item in the set of unique values\n",
    "    for i, value in enumerate(unique):  \n",
    "        # iterates over unique, adding an index\n",
    "        # enumerate returns for each iteration a tuple containing an index and the corresponding value\n",
    "        # since we enumerated a set (list of unique), we're adding keys to each unique value\n",
    "        lookup[value] = i   # Map key = unique string \"value\", to value = index number i\n",
    "    for row in dataset:\n",
    "        # replace string keys in specified dataset column with (index) integers\n",
    "        row[column] = lookup[row[column]]\n",
    "    # return dictionary so downstream user can convert predictions back to strings\n",
    "    return lookup\n",
    "\n",
    "# Calculating minimum and maximum value in each dataset column\n",
    "def dataset_minmax(dataset):\n",
    "    # Note: will error if a column is not numerical\n",
    "    minmax = list()\n",
    "    # iterating over each column in dataset\n",
    "    for i in range (len(dataset[0])):   \n",
    "        # requires that first row has no empty columns!\n",
    "        col_values = [row[i] for row in dataset]    \n",
    "        # define list with all rows' values in column i\n",
    "        # Find min and max values in each column, and add to minmax list (without indexing => ordering important!)\n",
    "        value_min = min(col_values)\n",
    "        value_max = max(col_values)\n",
    "        minmax.append([value_min, value_max])   \n",
    "        # append min and max as a list, i.e. minmax = list of lists\n",
    "    return minmax\n",
    "\n",
    "# Normalize dataset, i.e. rescale columns to the range 0-1\n",
    "def normalize_dataset(dataset, minmax):\n",
    "    for row in dataset:\n",
    "        for i in range (len(row)):\n",
    "            row[i] = (row[i] - minmax[i][0]) / (minmax[i][1] - minmax[i][0])\n",
    "            \n",
    "# Calculate the mean of each dataset column\n",
    "def column_means(dataset):\n",
    "    # Inside bracket returns a series of 0's len(...) long, creating the list 'means'\n",
    "    means = [0 for i in range(len(dataset[0]))] \n",
    "    # populate list of means with 0\n",
    "    # range() defaults is start = 0, end = x, step = 1; returns that sequence of numbers\n",
    "    for i in range(len(dataset[0])):    \n",
    "        # Iterate over each column number in first row\n",
    "        # Get list of values for each column in all rows\n",
    "        col_values = [row[i] for row in dataset]    \n",
    "        # dataset is list of rows\n",
    "        means[i] = sum(col_values) / float(len(col_values)) \n",
    "        # update column mean; cast to avoid integer division\n",
    "    return means    # list of column means, index = column number\n",
    "\n",
    "# Calculate the standard deviation of each dataset column, assuming means already calculated\n",
    "# Returns list of column standard deviations, index = column number\n",
    "def column_stdev(dataset, means):\n",
    "    stdevs = [0 for i in range(len(dataset[0]))]    \n",
    "    # populate list with 0's, length = #columns\n",
    "    for i in range(len(dataset[0])):    \n",
    "        # iterate over column numbers in first row, for all rows\n",
    "        variance = [pow(row[i] - means[i], 2) for row in dataset]   \n",
    "        # squares of deviations\n",
    "        stdevs[i] = sum(variance)   \n",
    "        # sum of squares of deviations; x below\n",
    "    stdevs = [sqrt(x/(float(len(dataset)-1))) for x in stdevs]  \n",
    "    # square each sum to get st.dev.\n",
    "    return stdevs\n",
    "\n",
    "# Standardize dataset\n",
    "def standardize_dataset(dataset, means, stdevs):\n",
    "    for row in dataset: \n",
    "        # Iterate over each row\n",
    "        for i in range(len(row)):   \n",
    "            # Iterate over each column\n",
    "            row[i] = (row[i] - means[i]) / stdevs[i]"
   ]
  },
  {
   "cell_type": "markdown",
   "metadata": {},
   "source": [
    "### Testing normalization"
   ]
  },
  {
   "cell_type": "code",
   "execution_count": 7,
   "metadata": {},
   "outputs": [
    {
     "name": "stdout",
     "output_type": "stream",
     "text": [
      "Dataset: [[50, 30], [20, 90]]\n",
      "minmax: [[20, 50], [30, 90]]\n",
      "Normalized: [[1.0, 0.0], [0.0, 1.0]] \n",
      "\n",
      "Loaded data file data/pima-indians-diabetes.csv with 768 rows and 9 columns.\n",
      "Pima as floats: [6.0, 148.0, 72.0, 35.0, 0.0, 33.6, 0.627, 50.0, 1.0]\n",
      "Pima normalized: [0.35294117647058826, 0.7437185929648241, 0.5901639344262295, 0.35353535353535354, 0.0, 0.5007451564828614, 0.23441502988898377, 0.48333333333333334, 1.0] \n",
      "\n"
     ]
    }
   ],
   "source": [
    "# Contrive small testing dataset\n",
    "dataset = [[50, 30], [20, 90]]  \n",
    "# [x, y], [x, y]\n",
    "print(\"Dataset:\", dataset)\n",
    "# Calculate min and max for each column\n",
    "minmax = dataset_minmax(dataset)\n",
    "print(\"minmax:\", minmax)\n",
    "# Normalize columns in dataset\n",
    "normalize_dataset(dataset, minmax)\n",
    "print(\"Normalized:\", dataset, \"\\n\")\n",
    "\n",
    "# Load pima-indians-diabetes dataset\n",
    "filename = 'data/pima-indians-diabetes.csv'\n",
    "dataset = load_csv(filename)\n",
    "# Convert string columns to float\n",
    "for i in range(len(dataset[0])):\n",
    "    str_column_to_float(dataset, i)\n",
    "print(\"Pima as floats:\", dataset[0])\n",
    "# Calculate min and max for each column\n",
    "minmax = dataset_minmax(dataset)\n",
    "# Normalize columns to 0-1\n",
    "normalize_dataset(dataset, minmax)\n",
    "print(\"Pima normalized:\", dataset[0], \"\\n\")"
   ]
  },
  {
   "cell_type": "markdown",
   "metadata": {},
   "source": [
    "### Testing standardization"
   ]
  },
  {
   "cell_type": "code",
   "execution_count": 8,
   "metadata": {},
   "outputs": [
    {
     "name": "stdout",
     "output_type": "stream",
     "text": [
      "Dataset: [[50, 30], [20, 90], [30, 50]]\n",
      "Means: [33.333333333333336, 56.666666666666664]\n",
      "St.devs.: [15.275252316519467, 30.550504633038933]\n",
      "Standardized: [[1.0910894511799618, -0.8728715609439694], [-0.8728715609439697, 1.091089451179962], [-0.21821789023599253, -0.2182178902359923]] \n",
      "\n",
      "Loaded data file data/pima-indians-diabetes.csv with 768 rows and 9 columns.\n",
      "Pima as floats: [6.0, 148.0, 72.0, 35.0, 0.0, 33.6, 0.627, 50.0, 1.0]\n",
      "Pima standardized: [0.6395304921176576, 0.8477713205896718, 0.14954329852954296, 0.9066790623472505, -0.692439324724129, 0.2038799072674717, 0.468186870229798, 1.4250667195933604, 1.3650063669598067] \n",
      "\n"
     ]
    }
   ],
   "source": [
    "# Contrive small testing dataset: list of 3 lists, each with two items\n",
    "dataset = [[50, 30], [20, 90], [30, 50]]\n",
    "print(\"Dataset:\",dataset)\n",
    "# Estimate mean and standard deviation\n",
    "means = column_means(dataset)\n",
    "stdevs = column_stdev(dataset, means)\n",
    "print(\"Means:\", means)\n",
    "print(\"St.devs.:\", stdevs)\n",
    "# Standardize dataset\n",
    "standardize_dataset(dataset, means, stdevs)\n",
    "print(\"Standardized:\", dataset, \"\\n\")\n",
    "\n",
    "# Load pima-indians-diabetes dataset\n",
    "dataset = load_csv('data/pima-indians-diabetes.csv')\n",
    "# Convert string columns to float\n",
    "for i in range(len(dataset[0])):\n",
    "    str_column_to_float(dataset, i)\n",
    "print(\"Pima as floats:\", dataset[0])\n",
    "# Calculate column means and st. devs.\n",
    "means = column_means(dataset)\n",
    "stdevs = column_stdev(dataset, means)\n",
    "# Standardize dataset\n",
    "standardize_dataset(dataset, means, stdevs)\n",
    "print(\"Pima standardized:\", dataset[0], \"\\n\")"
   ]
  },
  {
   "cell_type": "code",
   "execution_count": null,
   "metadata": {},
   "outputs": [],
   "source": []
  }
 ],
 "metadata": {
  "kernelspec": {
   "display_name": "Python 3",
   "language": "python",
   "name": "python3"
  },
  "language_info": {
   "codemirror_mode": {
    "name": "ipython",
    "version": 3
   },
   "file_extension": ".py",
   "mimetype": "text/x-python",
   "name": "python",
   "nbconvert_exporter": "python",
   "pygments_lexer": "ipython3",
   "version": "3.7.1"
  }
 },
 "nbformat": 4,
 "nbformat_minor": 2
}
