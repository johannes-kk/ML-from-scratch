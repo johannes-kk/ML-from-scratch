{
 "cells": [
  {
   "cell_type": "markdown",
   "metadata": {},
   "source": [
    "# 15. Stacked Generalization"
   ]
  },
  {
   "cell_type": "code",
   "execution_count": 1,
   "metadata": {},
   "outputs": [],
   "source": [
    "from random import seed, randrange\n",
    "from math import sqrt\n",
    "\n",
    "from functions import *"
   ]
  },
  {
   "cell_type": "markdown",
   "metadata": {},
   "source": [
    "### Define functions\n",
    "*Have to redo several algorithms to make compatible with learning rates, batch sizes, etc."
   ]
  },
  {
   "cell_type": "code",
   "execution_count": 2,
   "metadata": {},
   "outputs": [],
   "source": [
    "# SUBMODEL 1\n",
    "# Prepare the KNN submodel\n",
    "def knn_model(train):\n",
    "    return train\n",
    "\n",
    "# Calculate the Euclidean distance between two vectors\n",
    "def euclidean_distance(row1, row2):\n",
    "    distance = 0.0\n",
    "    for i in range(len(row1)-1):\n",
    "        distance += (row1[i] - row2[i])**2\n",
    "    return sqrt(distance)\n",
    "\n",
    "# Locate neighbors for a new row\n",
    "def get_neighbors(train, test_row, num_neighbors):\n",
    "    distances = list()\n",
    "    for train_row in train:\n",
    "        dist = euclidean_distance(test_row, train_row)\n",
    "        distances.append((train_row, dist))\n",
    "    distances.sort(key=lambda tup: tup[1])\n",
    "    neighbors = list()\n",
    "    for i in range(num_neighbors):\n",
    "        neighbors.append(distances[i][0])\n",
    "    return neighbors\n",
    "\n",
    "# Make a prediction with KNN\n",
    "def knn_predict(model, test_row, num_neighbors=2):\n",
    "    neighbors = get_neighbors(model, test_row, num_neighbors)\n",
    "    output_values = [row[-1] for row in neighbors]\n",
    "    prediction = max(set(output_values), key=output_values.count)\n",
    "    return prediction\n",
    "\n",
    "# SUBMODEL 2\n",
    "# Make a prediction with weights\n",
    "def perceptron_predict(model, row):\n",
    "    activation = model[0]\n",
    "    for i in range(len(row)-1):\n",
    "        activation += model[i + 1] * row[i]\n",
    "    return 1.0 if activation >= 0.0 else 0.0\n",
    "\n",
    "# Estimate Perceptron weights using stochastic gradient descent\n",
    "def perceptron_model(train, l_rate=0.01, n_epoch=5000):\n",
    "    weights = [0.0 for i in range(len(train[0]))]\n",
    "    for epoch in range(n_epoch):\n",
    "        for row in train:\n",
    "            prediction = perceptron_predict(weights, row)\n",
    "            error = row[-1] - prediction\n",
    "            weights[0] = weights[0] + l_rate * error\n",
    "            for i in range(len(row)-1):\n",
    "                weights[i + 1] = weights[i + 1] + l_rate * error * row[i]\n",
    "    return weights\n",
    "\n",
    "# AGGREGATOR\n",
    "# Make a prediction with coefficients\n",
    "def logistic_regression_predict(model, row):\n",
    "    yhat = model[0]\n",
    "    for i in range(len(row)-1):\n",
    "        yhat += model[i + 1] * row[i]\n",
    "    return 1.0 / (1.0 + exp(-yhat))\n",
    "\n",
    "# Estimate logistic regression coefficients using stochastic gradient descent\n",
    "def logistic_regression_model(train, l_rate=0.01, n_epoch=5000):\n",
    "    coef = [0.0 for i in range(len(train[0]))]\n",
    "    for epoch in range(n_epoch):\n",
    "        for row in train:\n",
    "            yhat = logistic_regression_predict(coef, row)\n",
    "            error = row[-1] - yhat\n",
    "            coef[0] = coef[0] + l_rate * error * yhat * (1.0 - yhat)\n",
    "            for i in range(len(row)-1):\n",
    "                coef[i + 1] = coef[i + 1] + l_rate * error * yhat * (1.0 - yhat) * row[i]\n",
    "    return coef\n",
    "\n",
    "# Make predictions with submodels and construct a new stacked row\n",
    "# Input: list of models to make predictions, list of functions to predict for each model, row of data\n",
    "# Output: original input data, predictions of submodels on this data, and expected output\n",
    "def to_stacked_row(models, predict_list, row):\n",
    "    # Create stacked row as horizontal vector of submodel predictions and expected output\n",
    "    stacked_row = list()\n",
    "    # For each model, get predicted output and append to stacked row vector\n",
    "    for i in range(len(models)):\n",
    "        prediction = predict_list[i](models[i], row)\n",
    "        stacked_row.append(prediction)\n",
    "    # Append expected output to end of stacked row vector\n",
    "    stacked_row.append(row[-1])\n",
    "    # Append original inputs to front of stacked row vector, then return it\n",
    "    return row[0:len(row)-1] + stacked_row\n",
    "\n",
    "# Trains a list of models, constructs new stacked dataset by making predictions with each,\n",
    "# trains aggregator model on the stacked set, uses submodels and aggregator to predict on test\n",
    "def stacking(train, test):\n",
    "    # Lists of submodels' train and predict functions\n",
    "    model_list = [knn_model, perceptron_model]\n",
    "    predict_list = [knn_predict, perceptron_predict]\n",
    "\n",
    "    # Trains the submodels and adds to list\n",
    "    models = list()\n",
    "    for i in range(len(model_list)):\n",
    "        model = model_list[i](train)\n",
    "        models.append(model)\n",
    "\n",
    "    # Iterates train data, creates stacked dataset of input + submodel prediction + expected output\n",
    "    stacked_dataset = list()\n",
    "    for row in train:\n",
    "        stacked_row = to_stacked_row(models, predict_list, row)\n",
    "        stacked_dataset.append(stacked_row)\n",
    "\n",
    "    # Train aggregator model on (train) stacked dataset\n",
    "        # Since 'improved' stack, features consist of original inputs and submodel predictions\n",
    "    stacked_model = logistic_regression_model(stacked_dataset)\n",
    "    # Use trained aggregator model to predict test data outputs\n",
    "    predictions = list()\n",
    "    for row in test:\n",
    "        # Create stacked row for each test row, i.e. getting submodel predictions for each test row\n",
    "        stacked_row = to_stacked_row(models, predict_list, row)\n",
    "        stacked_dataset.append(stacked_row)\n",
    "        prediction = logistic_regression_predict(stacked_model, stacked_row)\n",
    "        # Round logit(?) output to 0 or 1\n",
    "        predictions.append(round(prediction))\n",
    "    return predictions"
   ]
  },
  {
   "cell_type": "markdown",
   "metadata": {},
   "source": [
    "### Testing stacked generalization on Sonar dataset"
   ]
  },
  {
   "cell_type": "code",
   "execution_count": 4,
   "metadata": {},
   "outputs": [
    {
     "name": "stdout",
     "output_type": "stream",
     "text": [
      "Loaded data file data/sonar.all-data.csv with 208 rows and 61 columns.\n",
      "Scores: [78.26086956521739, 76.81159420289855, 69.56521739130434]\n",
      "Mean Accuracy: 74.879%\n"
     ]
    }
   ],
   "source": [
    "seed(1)\n",
    "\n",
    "# Load and prepare data\n",
    "dataset = load_csv('data/sonar.all-data.csv')\n",
    "# Convert string attributes to floats\n",
    "for i in range(len(dataset[0])-1):\n",
    "    str_column_to_float(dataset, i)\n",
    "# Convert class output column to int\n",
    "str_column_to_int(dataset, len(dataset[0])-1)\n",
    "\n",
    "# Evaluate algorithm\n",
    "# 3 folds gives ~69 observations per fold\n",
    "n_folds = 3\n",
    "scores = evaluate_algorithm(dataset, stacking, n_folds)\n",
    "print('Scores: %s' % scores)\n",
    "print('Mean Accuracy: %.3f%%' % (sum(scores)/float(len(scores))))"
   ]
  },
  {
   "cell_type": "code",
   "execution_count": null,
   "metadata": {},
   "outputs": [],
   "source": []
  }
 ],
 "metadata": {
  "kernelspec": {
   "display_name": "Python 3",
   "language": "python",
   "name": "python3"
  },
  "language_info": {
   "codemirror_mode": {
    "name": "ipython",
    "version": 3
   },
   "file_extension": ".py",
   "mimetype": "text/x-python",
   "name": "python",
   "nbconvert_exporter": "python",
   "pygments_lexer": "ipython3",
   "version": "3.7.1"
  }
 },
 "nbformat": 4,
 "nbformat_minor": 2
}
